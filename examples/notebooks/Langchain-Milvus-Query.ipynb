{
 "cells": [
  {
   "cell_type": "markdown",
   "id": "165a3407",
   "metadata": {},
   "source": [
    "## Querying a Milvus index\n",
    "\n",
    "Simple example on how to query content from a Milvus VectorStore.\n",
    "\n",
    "Requirements:\n",
    "- A Milvus instance, either standalone or cluster.\n",
    "- Connection credentials to Milvus must be available as environment variables: MILVUS_USERNAME and MILVUS_PASSWORD"
   ]
  },
  {
   "cell_type": "markdown",
   "id": "48ac3132-6929-4477-9585-31761d7d9848",
   "metadata": {},
   "source": [
    "### Needed packages and imports"
   ]
  },
  {
   "cell_type": "code",
   "execution_count": null,
   "id": "1ed97389-9c5b-46a8-bedf-f28bf7038a07",
   "metadata": {},
   "outputs": [],
   "source": [
    "!pip install -q einops==0.7.0 langchain==0.1.9 pymilvus==2.3.6 sentence-transformers==2.4.0"
   ]
  },
  {
   "cell_type": "code",
   "execution_count": null,
   "id": "83e11d23-c0ad-4875-b67f-149fc8b14725",
   "metadata": {
    "tags": []
   },
   "outputs": [],
   "source": [
    "import os\n",
    "from langchain.embeddings.huggingface import HuggingFaceEmbeddings\n",
    "from langchain_community.vectorstores import Milvus"
   ]
  },
  {
   "cell_type": "markdown",
   "id": "f0b8ecae",
   "metadata": {
    "tags": []
   },
   "source": [
    "### Base parameters, the Milvus connection info"
   ]
  },
  {
   "cell_type": "code",
   "execution_count": null,
   "id": "9376e567",
   "metadata": {
    "tags": []
   },
   "outputs": [],
   "source": [
    "# Replace values according to your Milvus deployment\n",
    "MILVUS_HOST = \"vectordb-milvus.milvus.svc.cluster.local\"\n",
    "MILVUS_PORT = 19530\n",
    "MILVUS_USERNAME = os.getenv('MILVUS_USERNAME')\n",
    "MILVUS_PASSWORD = os.getenv('MILVUS_PASSWORD')\n",
    "MILVUS_COLLECTION = \"demo_collection\""
   ]
  },
  {
   "cell_type": "markdown",
   "id": "56d51868",
   "metadata": {},
   "source": [
    "### Initialize the connection"
   ]
  },
  {
   "cell_type": "code",
   "execution_count": null,
   "id": "bbb6a3e3-5ccd-441e-b80d-427555d9e9f6",
   "metadata": {
    "tags": []
   },
   "outputs": [],
   "source": [
    "# If you don't want to use a GPU, you can remove the 'device': 'cuda' argument\n",
    "model_kwargs = {'device': 'cuda'}\n",
    "embeddings = HuggingFaceEmbeddings(\n",
    "    model_kwargs=model_kwargs,\n",
    "    show_progress=True\n",
    ")\n",
    "\n",
    "store = Milvus(\n",
    "    embedding_function=embeddings,\n",
    "    connection_args={\"host\": MILVUS_HOST, \"port\": MILVUS_PORT, \"user\": MILVUS_USERNAME, \"password\": MILVUS_PASSWORD},\n",
    "    collection_name=MILVUS_COLLECTION,\n",
    "    metadata_field=\"metadata\",\n",
    "    text_field=\"page_content\",\n",
    "    drop_old=False\n",
    "    )"
   ]
  },
  {
   "cell_type": "markdown",
   "id": "9856851c",
   "metadata": {},
   "source": [
    "### Make a query to the index to verify sources"
   ]
  },
  {
   "cell_type": "code",
   "execution_count": null,
   "id": "9621e231-3541-40bc-85ef-8aa3b2ba2331",
   "metadata": {
    "tags": []
   },
   "outputs": [],
   "source": [
    "query=\"How can I create a Data Science Project?\"\n",
    "results = store.similarity_search_with_score(query, k=4, return_metadata=True)\n",
    "for result in results:\n",
    "    print(result[0].metadata['source'])"
   ]
  },
  {
   "cell_type": "markdown",
   "id": "f1005e2c",
   "metadata": {},
   "source": [
    "### Work with a retriever"
   ]
  },
  {
   "cell_type": "code",
   "execution_count": null,
   "id": "f4ce0caa-a514-4a4d-985b-7e5ac89356ea",
   "metadata": {
    "tags": []
   },
   "outputs": [],
   "source": [
    "retriever = store.as_retriever(search_type=\"similarity\", search_kwargs={\"k\": 4})"
   ]
  },
  {
   "cell_type": "code",
   "execution_count": null,
   "id": "5dede8e3-f185-4aae-a5f1-6c67876f0f65",
   "metadata": {
    "tags": []
   },
   "outputs": [],
   "source": [
    "docs = retriever.get_relevant_documents(query)\n",
    "docs"
   ]
  }
 ],
 "metadata": {
  "kernelspec": {
   "display_name": "Python 3.9",
   "language": "python",
   "name": "python3"
  },
  "language_info": {
   "codemirror_mode": {
    "name": "ipython",
    "version": 3
   },
   "file_extension": ".py",
   "mimetype": "text/x-python",
   "name": "python",
   "nbconvert_exporter": "python",
   "pygments_lexer": "ipython3",
   "version": "3.9.18"
  }
 },
 "nbformat": 4,
 "nbformat_minor": 5
}
