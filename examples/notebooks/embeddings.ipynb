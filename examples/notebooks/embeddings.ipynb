{
 "cells": [
  {
   "cell_type": "code",
   "execution_count": 1,
   "id": "948cb123-3dab-4dab-aea9-fec72d5c2539",
   "metadata": {},
   "outputs": [
    {
     "name": "stdout",
     "output_type": "stream",
     "text": [
      "Requirement already satisfied: transformers in /opt/app-root/lib/python3.9/site-packages (4.41.2)\n",
      "Requirement already satisfied: pyyaml>=5.1 in /opt/app-root/lib/python3.9/site-packages (from transformers) (6.0.1)\n",
      "Requirement already satisfied: regex!=2019.12.17 in /opt/app-root/lib/python3.9/site-packages (from transformers) (2024.5.15)\n",
      "Requirement already satisfied: tqdm>=4.27 in /opt/app-root/lib/python3.9/site-packages (from transformers) (4.66.2)\n",
      "Requirement already satisfied: tokenizers<0.20,>=0.19 in /opt/app-root/lib/python3.9/site-packages (from transformers) (0.19.1)\n",
      "Requirement already satisfied: numpy>=1.17 in /opt/app-root/lib/python3.9/site-packages (from transformers) (1.24.4)\n",
      "Requirement already satisfied: safetensors>=0.4.1 in /opt/app-root/lib/python3.9/site-packages (from transformers) (0.4.3)\n",
      "Requirement already satisfied: packaging>=20.0 in /opt/app-root/lib/python3.9/site-packages (from transformers) (23.2)\n",
      "Requirement already satisfied: filelock in /opt/app-root/lib/python3.9/site-packages (from transformers) (3.13.1)\n",
      "Requirement already satisfied: requests in /opt/app-root/lib/python3.9/site-packages (from transformers) (2.31.0)\n",
      "Requirement already satisfied: huggingface-hub<1.0,>=0.23.0 in /opt/app-root/lib/python3.9/site-packages (from transformers) (0.23.4)\n",
      "Requirement already satisfied: typing-extensions>=3.7.4.3 in /opt/app-root/lib/python3.9/site-packages (from huggingface-hub<1.0,>=0.23.0->transformers) (4.10.0)\n",
      "Requirement already satisfied: fsspec>=2023.5.0 in /opt/app-root/lib/python3.9/site-packages (from huggingface-hub<1.0,>=0.23.0->transformers) (2024.2.0)\n",
      "Requirement already satisfied: certifi>=2017.4.17 in /opt/app-root/lib/python3.9/site-packages (from requests->transformers) (2024.2.2)\n",
      "Requirement already satisfied: urllib3<3,>=1.21.1 in /opt/app-root/lib/python3.9/site-packages (from requests->transformers) (1.26.18)\n",
      "Requirement already satisfied: charset-normalizer<4,>=2 in /opt/app-root/lib/python3.9/site-packages (from requests->transformers) (3.3.2)\n",
      "Requirement already satisfied: idna<4,>=2.5 in /opt/app-root/lib/python3.9/site-packages (from requests->transformers) (3.6)\n",
      "\n",
      "\u001b[1m[\u001b[0m\u001b[34;49mnotice\u001b[0m\u001b[1;39;49m]\u001b[0m\u001b[39;49m A new release of pip available: \u001b[0m\u001b[31;49m22.2.2\u001b[0m\u001b[39;49m -> \u001b[0m\u001b[32;49m24.1\u001b[0m\n",
      "\u001b[1m[\u001b[0m\u001b[34;49mnotice\u001b[0m\u001b[1;39;49m]\u001b[0m\u001b[39;49m To update, run: \u001b[0m\u001b[32;49mpip install --upgrade pip\u001b[0m\n"
     ]
    }
   ],
   "source": [
    "!pip install transformers"
   ]
  },
  {
   "cell_type": "code",
   "execution_count": 2,
   "id": "66767db7-bc5b-4e0a-a9b5-1c683d3023a9",
   "metadata": {},
   "outputs": [],
   "source": [
    "from transformers import AutoModel\n",
    "from numpy.linalg import norm\n",
    "\n",
    "from sentence_transformers import SentenceTransformer, util"
   ]
  },
  {
   "cell_type": "code",
   "execution_count": 3,
   "id": "1dce72f6-2f23-46a9-b0cd-62d3da2a56ce",
   "metadata": {},
   "outputs": [
    {
     "name": "stderr",
     "output_type": "stream",
     "text": [
      "You try to use a model that was created with version 2.4.0.dev0, however, your version is 2.4.0. This might cause unexpected behavior or errors. In that case, try to update to the latest version.\n",
      "\n",
      "\n",
      "\n",
      "/opt/app-root/lib64/python3.9/site-packages/huggingface_hub/file_download.py:1132: FutureWarning: `resume_download` is deprecated and will be removed in version 1.0.0. Downloads always resume when possible. If you want to force a new download, use `force_download=True`.\n",
      "  warnings.warn(\n",
      "<All keys matched successfully>\n"
     ]
    }
   ],
   "source": [
    "cos_sim = lambda a,b: (a @ b.T) / (norm(a)*norm(b))\n",
    "\n",
    "# model_name = 'jinaai/jina-embeddings-v2-base-es'\n",
    "# model_name = 'sentence-transformers/paraphrase-multilingual-MiniLM-L12-v2'\n",
    "model_name = 'nomic-ai/nomic-embed-text-v1'\n",
    "\n",
    "if model_name != 'jinaai/jina-embeddings-v2-base-es':\n",
    "    model = SentenceTransformer(model_name, trust_remote_code=True)\n",
    "else:\n",
    "    model = AutoModel.from_pretrained(model_name, trust_remote_code=True) "
   ]
  },
  {
   "cell_type": "code",
   "execution_count": 4,
   "id": "7d22b008-ec77-47a5-8d35-b2bb2b4a5557",
   "metadata": {},
   "outputs": [],
   "source": [
    "sentences = ['¿Dónde está el colegio San Felipe?', \n",
    "           'El colegio S. Felipe está en la calle Mayor 12', \n",
    "           'El San Felipe está en la calle Mayor 12 de Zaragoza', \n",
    "           'El colegio San Felipe, de Zaragoza, se sitúa en la calle Mayor número 12',\n",
    "           'El colegio San Felipe es famoso porque allí estudio Rogelio Martín',\n",
    "            'El perro de San Roque no tiene rabo']"
   ]
  },
  {
   "cell_type": "code",
   "execution_count": 5,
   "id": "20ce2a2d-8533-4200-98fe-c20a9a29683b",
   "metadata": {},
   "outputs": [
    {
     "name": "stdout",
     "output_type": "stream",
     "text": [
      "model=nomic-ai/nomic-embed-text-v1\n",
      "0.7464144\n",
      "0.657415\n",
      "0.686457\n",
      "0.78463906\n",
      "0.4558103\n",
      "English/Spanish\n",
      "0.3506512\n"
     ]
    }
   ],
   "source": [
    "embeddings = model.encode(sentences)\n",
    "\n",
    "print(f'model={model_name}')\n",
    "\n",
    "print(cos_sim(embeddings[0], embeddings[1]))\n",
    "print(cos_sim(embeddings[0], embeddings[2]))\n",
    "print(cos_sim(embeddings[0], embeddings[3]))\n",
    "print(cos_sim(embeddings[0], embeddings[4]))\n",
    "print(cos_sim(embeddings[0], embeddings[5]))\n",
    "\n",
    "embeddings = model.encode(['How is the weather today?', '¿Qué tiempo hace hoy?'])\n",
    "\n",
    "print('English/Spanish')\n",
    "print(cos_sim(embeddings[0], embeddings[1]))"
   ]
  },
  {
   "cell_type": "markdown",
   "id": "ee4e6872-e47e-4f94-876d-e3975a5a35cc",
   "metadata": {},
   "source": [
    "```\n",
    "model=jinaai/jina-embeddings-v2-base-es\n",
    "0.73530275\n",
    "0.61649597\n",
    "0.7216621\n",
    "0.6362424\n",
    "0.16828226\n",
    "English/Spanish\n",
    "0.8654322\n",
    "```\n",
    "\n",
    "```\n",
    "model=sentence-transformers/paraphrase-multilingual-MiniLM-L12-v2\n",
    "0.8096519\n",
    "0.68793976\n",
    "0.8410557\n",
    "0.7738239\n",
    "0.21771772\n",
    "English/Spanish\n",
    "0.95769334\n",
    "```\n",
    "\n",
    "```\n",
    "model=nomic-ai/nomic-embed-text-v1\n",
    "0.74641454\n",
    "0.65741515\n",
    "0.68645704\n",
    "0.7846393\n",
    "0.4558106\n",
    "English/Spanish\n",
    "0.3506512\n",
    "```"
   ]
  }
 ],
 "metadata": {
  "kernelspec": {
   "display_name": "Python 3.9",
   "language": "python",
   "name": "python3"
  },
  "language_info": {
   "codemirror_mode": {
    "name": "ipython",
    "version": 3
   },
   "file_extension": ".py",
   "mimetype": "text/x-python",
   "name": "python",
   "nbconvert_exporter": "python",
   "pygments_lexer": "ipython3",
   "version": "3.9.18"
  }
 },
 "nbformat": 4,
 "nbformat_minor": 5
}
